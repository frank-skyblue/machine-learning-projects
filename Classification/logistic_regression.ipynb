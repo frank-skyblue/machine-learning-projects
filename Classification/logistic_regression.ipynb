{
 "cells": [
  {
   "attachments": {},
   "cell_type": "markdown",
   "metadata": {},
   "source": [
    "# Performing Gradient Descent on Logistic Regression"
   ]
  },
  {
   "cell_type": "code",
   "execution_count": 5,
   "metadata": {},
   "outputs": [],
   "source": [
    "import numpy as np\n",
    "\n",
    "def sigmoid(a_i):\n",
    "    return 1 / (1 + np.exp(-a_i))\n",
    "\n",
    "def gradient(w_i, X, Y):\n",
    "    sum = 0\n",
    "    for i in range(len(X)):\n",
    "        x_i = X[i]\n",
    "        y_i = Y[i]\n",
    "        a_i = np.dot(w_i, x_i)\n",
    "        p_i = sigmoid(a_i)\n",
    "        sum += (y_i - p_i) * x_i\n",
    "\n",
    "    return -sum"
   ]
  },
  {
   "attachments": {},
   "cell_type": "markdown",
   "metadata": {},
   "source": [
    "### Iteration 1"
   ]
  },
  {
   "cell_type": "code",
   "execution_count": 6,
   "metadata": {},
   "outputs": [
    {
     "name": "stdout",
     "output_type": "stream",
     "text": [
      "[ 0.20477175 -0.35426438  0.68685387]\n"
     ]
    }
   ],
   "source": [
    "w_i = np.array([0.3, -0.2, 0.7])\n",
    "\n",
    "X = np.array([[4.0, 4.0, 1.0],\n",
    "                [6.0, 4.0, 1.0],\n",
    "                [6.0, 5.0, 1.0],\n",
    "                [6.0, 8.0, 1.0],\n",
    "                [6.0, 10.0, 1.0],\n",
    "                [8.0, 8.0, 1.0],\n",
    "                [8.0, 10.0, 1.0]])\n",
    "\n",
    "Y = np.array([1, 1, 1, 0, 0, 1, 0])\n",
    "Y_inv = np.array([0, 0, 0, 1, 1, 0, 1])\n",
    "\n",
    "step_size = 0.01\n",
    "\n",
    "w_iplus1 = w_i - step_size * gradient(w_i, X, Y)\n",
    "print(w_iplus1)"
   ]
  },
  {
   "attachments": {},
   "cell_type": "markdown",
   "metadata": {},
   "source": [
    "### Iteration 2"
   ]
  },
  {
   "cell_type": "code",
   "execution_count": 7,
   "metadata": {},
   "outputs": [
    {
     "name": "stdout",
     "output_type": "stream",
     "text": [
      "[ 0.27913091 -0.3089443   0.69951893]\n"
     ]
    }
   ],
   "source": [
    "w_iplus2 = w_iplus1 - step_size * gradient(w_iplus1, X, Y)\n",
    "print(w_iplus2)"
   ]
  },
  {
   "attachments": {},
   "cell_type": "markdown",
   "metadata": {},
   "source": [
    "### Iteration 3"
   ]
  },
  {
   "cell_type": "code",
   "execution_count": 9,
   "metadata": {},
   "outputs": [
    {
     "name": "stdout",
     "output_type": "stream",
     "text": [
      "[ 0.27208574 -0.35574855  0.69978802]\n"
     ]
    }
   ],
   "source": [
    "w_iplus3 = w_iplus2 - step_size * gradient(w_iplus2, X, Y)\n",
    "print(w_iplus3)"
   ]
  }
 ],
 "metadata": {
  "kernelspec": {
   "display_name": "base",
   "language": "python",
   "name": "python3"
  },
  "language_info": {
   "codemirror_mode": {
    "name": "ipython",
    "version": 3
   },
   "file_extension": ".py",
   "mimetype": "text/x-python",
   "name": "python",
   "nbconvert_exporter": "python",
   "pygments_lexer": "ipython3",
   "version": "3.10.10"
  },
  "orig_nbformat": 4
 },
 "nbformat": 4,
 "nbformat_minor": 2
}
